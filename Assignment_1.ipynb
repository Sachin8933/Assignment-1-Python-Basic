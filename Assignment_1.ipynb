{
  "nbformat": 4,
  "nbformat_minor": 0,
  "metadata": {
    "colab": {
      "provenance": []
    },
    "kernelspec": {
      "name": "python3",
      "display_name": "Python 3"
    },
    "language_info": {
      "name": "python"
    }
  },
  "cells": [
    {
      "cell_type": "code",
      "execution_count": null,
      "metadata": {
        "colab": {
          "base_uri": "https://localhost:8080/"
        },
        "id": "iuyYZwyscQy2",
        "outputId": "73a83c33-3079-495a-c1a5-1f629c5354ed"
      },
      "outputs": [
        {
          "output_type": "stream",
          "name": "stdout",
          "text": [
            "Hello , World!\n"
          ]
        }
      ],
      "source": [
        "'''\n",
        "Program:1->\n",
        "Write a Python program to print \"Hello, World!\n",
        "'''\n",
        "print(\"Hello , World!\")\n"
      ]
    },
    {
      "cell_type": "code",
      "source": [
        "'''\n",
        "Write a Python program that displays your name and age\n",
        "'''\n",
        "print(\"My name: Sachin Thakur\\nMy age:25\")"
      ],
      "metadata": {
        "colab": {
          "base_uri": "https://localhost:8080/"
        },
        "id": "4X6rncKMc3v7",
        "outputId": "d6581342-e419-4e2a-a1d1-853326936b4f"
      },
      "execution_count": null,
      "outputs": [
        {
          "output_type": "stream",
          "name": "stdout",
          "text": [
            "My name: Sachin Thakur\n",
            "My age:25\n"
          ]
        }
      ]
    },
    {
      "cell_type": "code",
      "source": [
        "'''\n",
        "Write code to print all the pre-defined keywords in Python using the keyword library\n",
        "'''\n",
        "import keyword\n",
        "\n",
        "# Get the list of all Python keywords\n",
        "keywords_list = keyword.kwlist\n",
        "\n",
        "# Print all the keywords\n",
        "print(\"Python Keywords:\")\n",
        "for key in keywords_list:\n",
        "    print(key)\n"
      ],
      "metadata": {
        "colab": {
          "base_uri": "https://localhost:8080/"
        },
        "collapsed": true,
        "id": "ugJdqRMFdXAB",
        "outputId": "60266978-71fa-4640-b05d-a727f836b5b0"
      },
      "execution_count": null,
      "outputs": [
        {
          "output_type": "stream",
          "name": "stdout",
          "text": [
            "Python Keywords:\n",
            "False\n",
            "None\n",
            "True\n",
            "and\n",
            "as\n",
            "assert\n",
            "async\n",
            "await\n",
            "break\n",
            "class\n",
            "continue\n",
            "def\n",
            "del\n",
            "elif\n",
            "else\n",
            "except\n",
            "finally\n",
            "for\n",
            "from\n",
            "global\n",
            "if\n",
            "import\n",
            "in\n",
            "is\n",
            "lambda\n",
            "nonlocal\n",
            "not\n",
            "or\n",
            "pass\n",
            "raise\n",
            "return\n",
            "try\n",
            "while\n",
            "with\n",
            "yield\n"
          ]
        }
      ]
    },
    {
      "cell_type": "code",
      "source": [
        "'''\n",
        " Write a program that checks if a given word is a Python keyword.\n",
        " '''\n",
        "import keyword\n",
        "keywords_list=keyword.kwlist\n",
        "\n",
        "word=input(\"Enter the word: \")\n",
        "if word in keywords_list:\n",
        "    print(f\"{word} is a python keyword \")\n",
        "else:\n",
        "    print(f\"{word} is not a python keyword \")"
      ],
      "metadata": {
        "colab": {
          "base_uri": "https://localhost:8080/"
        },
        "id": "7XXXDHjEezNk",
        "outputId": "172fb9b7-9fb1-4407-9b27-88b266cf42fd"
      },
      "execution_count": null,
      "outputs": [
        {
          "output_type": "stream",
          "name": "stdout",
          "text": [
            "Enter the word: while\n",
            "while is a python keyword \n"
          ]
        }
      ]
    },
    {
      "cell_type": "code",
      "source": [
        "'''\n",
        "Create a list and tuple in Python, and demonstrate how attempting to change an element works differently\n",
        "for each.\n",
        "'''\n",
        "#Creating list\n",
        "list=[10,20,30]\n",
        "print(\"Original list\" , list)\n",
        "list[1]=300\n",
        "print(\"Modifies\" , list)\n",
        "\n",
        "#Creating tuple\n",
        "\n",
        "tuple=(100,200,300)\n",
        "print(\"Original tuple\", tuple)\n",
        "\n",
        "try:\n",
        "   tuple[1] = 150\n",
        "except TypeError as e:\n",
        "    print(\"Error while modifying tuple:\", e)"
      ],
      "metadata": {
        "colab": {
          "base_uri": "https://localhost:8080/"
        },
        "id": "9_YDyfLkgFV-",
        "outputId": "18f3b6a9-d26a-462e-988f-22873e9c4bdf"
      },
      "execution_count": null,
      "outputs": [
        {
          "output_type": "stream",
          "name": "stdout",
          "text": [
            "Original list [10, 20, 30]\n",
            "Modifies [10, 300, 30]\n",
            "Original tuple (100, 200, 300)\n",
            "Error while modifying tuple: 'tuple' object does not support item assignment\n"
          ]
        }
      ]
    },
    {
      "cell_type": "code",
      "source": [
        "'''\n",
        "Write a function to demonstrate the behavior of mutable and immutable arguments.\n",
        "'''\n",
        "def change_value(x,y):\n",
        "  x=x+5\n",
        "  y.append(5)\n",
        "  print(\"Inside function:\")\n",
        "  print(\"x =\", x)\n",
        "  print(\"x =\", x)\n",
        "\n",
        "# Immutable example\n",
        "a = 5\n",
        "\n",
        "# Mutable example\n",
        "b = [1, 2, 3]\n",
        "print(\"Before function call:\")\n",
        "print(\"x =\", a)\n",
        "print(\"y =\", b)\n",
        "\n",
        "change_value(a,b)\n",
        "\n",
        "print(\"After function call:\")\n",
        "print(\"a =\", a)    # x is still 5\n",
        "print(\"b =\", b)    # y is changed to [1, 2, 3, 4]"
      ],
      "metadata": {
        "id": "w_9J5ikLnlIS",
        "colab": {
          "base_uri": "https://localhost:8080/"
        },
        "outputId": "828080a3-a69e-4a55-be61-07ee3a9656a9"
      },
      "execution_count": null,
      "outputs": [
        {
          "output_type": "stream",
          "name": "stdout",
          "text": [
            "Before function call:\n",
            "x = 5\n",
            "y = [1, 2, 3]\n",
            "Inside function:\n",
            "x = 10\n",
            "x = 10\n",
            "After function call:\n",
            "a = 5\n",
            "b = [1, 2, 3, 5]\n"
          ]
        }
      ]
    },
    {
      "cell_type": "code",
      "source": [
        "'''\n",
        "Write a program that performs basic arithmetic operations on two user-input numbers.\n",
        "'''\n",
        "a=int(input(\"Enter the first number: \"))\n",
        "b=int(input(\"Enter the second number: \"))\n",
        "#Addition\n",
        "sum=a+b\n",
        "print(\"Addition of two number \" ,sum)\n",
        "#Subtraction\n",
        "sub=a-b\n",
        "print(\"Subtraction of two number \" ,sub)\n",
        "#Multiply\n",
        "mul=a*b\n",
        "\n",
        "print(\"Mutliplication of two number \" ,mul)\n",
        "#Div\n",
        "div=a/b\n",
        "print(\"Division of two number \" ,div)\n",
        "mod=a%b\n",
        "print(\"Modulo of two number \" ,mod)\n"
      ],
      "metadata": {
        "id": "BfP89rJenpXA"
      },
      "execution_count": null,
      "outputs": []
    },
    {
      "cell_type": "code",
      "source": [
        "'''\n",
        " Write a program to demonstrate the use of logical operators.\n",
        "'''\n",
        "\n",
        "a=int(input(\"Enter the first number\"))\n",
        "b=int(input(\"Enter the second number\"))\n",
        "#using logical AND\n",
        "if a>0 and b>0:\n",
        "    print(\"Both numbers are positive\")\n",
        "#using logical OR\n",
        "elif a>0 or b>0:\n",
        "    print(\"At least one number is positive\")\n",
        "else:\n",
        "    print(\"Both numbers are negative\")\n",
        "\n"
      ],
      "metadata": {
        "colab": {
          "base_uri": "https://localhost:8080/"
        },
        "id": "uoBn8SSCejz_",
        "outputId": "6996b4ab-9d4c-45a9-a754-571b4e916b87"
      },
      "execution_count": null,
      "outputs": [
        {
          "output_type": "stream",
          "name": "stdout",
          "text": [
            "Enter the first number-8\n",
            "Enter the second number-5\n",
            "Both numbers are negative\n"
          ]
        }
      ]
    },
    {
      "cell_type": "code",
      "source": [
        "'''\n",
        "Write a Python program to convert user input from string to integer, float, and boolean types.\n",
        "'''\n",
        "# Get user input as string\n",
        "user_input = input(\"Enter a value: \")\n",
        "\n",
        "# Convert to integer\n",
        "try:\n",
        "    int_value = int(user_input)\n",
        "    print(\"Integer value:\", int_value)\n",
        "except ValueError:\n",
        "    print(\"Cannot convert to integer.\")\n",
        "\n",
        "# Convert to float\n",
        "try:\n",
        "    float_value = float(user_input)\n",
        "    print(\"Float value:\", float_value)\n",
        "except ValueError:\n",
        "    print(\"Cannot convert to float.\")\n",
        "\n",
        "# Convert to boolean\n",
        "# Note: Any non-empty string except \"False\"/\"false\" is True\n",
        "bool_value = user_input.lower() not in [\"false\", \"0\", \"\", \"none\"]\n",
        "print(\"Boolean value:\", bool_value)\n"
      ],
      "metadata": {
        "colab": {
          "base_uri": "https://localhost:8080/"
        },
        "id": "QWSdNO0jiJDr",
        "outputId": "9a99018e-6291-4163-90d5-d2c25ffed508"
      },
      "execution_count": null,
      "outputs": [
        {
          "output_type": "stream",
          "name": "stdout",
          "text": [
            "Enter a value: ram\n",
            "Cannot convert to integer.\n",
            "Cannot convert to float.\n",
            "Boolean value: True\n"
          ]
        }
      ]
    },
    {
      "cell_type": "code",
      "source": [
        "# Write code to demonstrate type casting with list elements.\n",
        "# Original list of strings\n",
        "str_list = ['10', '20', '30', '0', 'True', 'False']\n",
        "\n",
        "# Convert to integers\n",
        "int_list = [int(x) for x in str_list[:3]]  # Only first 3 are numbers\n",
        "print(\"Integer List:\", int_list)\n",
        "\n",
        "# Convert to floats\n",
        "float_list = [float(x) for x in str_list[:3]]\n",
        "print(\"Float List:\", float_list)\n",
        "\n",
        "# Convert to booleans\n",
        "bool_list = [x.lower() == 'true' for x in str_list[3:]]\n",
        "print(\"Boolean List:\", bool_list)\n"
      ],
      "metadata": {
        "colab": {
          "base_uri": "https://localhost:8080/"
        },
        "id": "5MjhTn6xj4sK",
        "outputId": "af9488ee-747a-4be1-8e85-18ccf725296e"
      },
      "execution_count": null,
      "outputs": [
        {
          "output_type": "stream",
          "name": "stdout",
          "text": [
            "Integer List: [10, 20, 30]\n",
            "Float List: [10.0, 20.0, 30.0]\n",
            "Boolean List: [False, True, False]\n"
          ]
        }
      ]
    },
    {
      "cell_type": "code",
      "source": [
        "'''\n",
        "Write a program that checks if a number is positive, negative, or zero.\n",
        "'''\n",
        "number=int(input(\"Enter the number: \"))\n",
        "if number>0:\n",
        "    print(f\"{number} is a positive number\")\n",
        "elif number<0:\n",
        "    print(f\"{number} is negative number\")\n",
        "else:\n",
        "    print(\"Therefore the number is Zero\")"
      ],
      "metadata": {
        "colab": {
          "base_uri": "https://localhost:8080/"
        },
        "id": "KubaJhFDk3kc",
        "outputId": "0113c0e2-81d9-4760-b7fb-e0515e3d8f5c"
      },
      "execution_count": null,
      "outputs": [
        {
          "output_type": "stream",
          "name": "stdout",
          "text": [
            "Enter the number: 0\n",
            "Therefore the number is Zero\n"
          ]
        }
      ]
    },
    {
      "cell_type": "code",
      "source": [
        "'''\n",
        "Write a for loop to print numbers from 1 to 10.\n",
        "\n",
        "'''\n",
        "for i in range(1,11):\n",
        "    print(i)\n"
      ],
      "metadata": {
        "colab": {
          "base_uri": "https://localhost:8080/"
        },
        "id": "GpsRDR5UmPWg",
        "outputId": "9a25b7f6-d580-4cc6-efd0-cf3c9b15028e"
      },
      "execution_count": null,
      "outputs": [
        {
          "output_type": "stream",
          "name": "stdout",
          "text": [
            "1\n",
            "2\n",
            "3\n",
            "4\n",
            "5\n",
            "6\n",
            "7\n",
            "8\n",
            "9\n",
            "10\n"
          ]
        }
      ]
    },
    {
      "cell_type": "code",
      "source": [
        "# Write a Python program to find the sum of all even numbers between 1 and 50.\n",
        "sum=0\n",
        "for i in range(1,51):\n",
        "    if i%2==0:\n",
        "      sum = sum+i\n",
        "\n",
        "#Display the final sum\n",
        "print(sum)"
      ],
      "metadata": {
        "colab": {
          "base_uri": "https://localhost:8080/"
        },
        "id": "32hU98y1mk4p",
        "outputId": "eeb897c5-b0d7-4c0a-9700-0befe384affb"
      },
      "execution_count": null,
      "outputs": [
        {
          "output_type": "stream",
          "name": "stdout",
          "text": [
            "650\n"
          ]
        }
      ]
    },
    {
      "cell_type": "code",
      "source": [
        "# Write a program to reverse a string using a while loop.\n",
        "\n",
        "text=input(\"Enter the string\")\n",
        "\n",
        "reversed_text=\"\"\n",
        "index = len(text) - 1\n",
        "\n",
        "while index >= 0:\n",
        "    reversed_text += text[index]\n",
        "    index -= 1\n",
        "\n",
        "\n",
        "print(\"The reverse text :\" ,reversed_text)"
      ],
      "metadata": {
        "colab": {
          "base_uri": "https://localhost:8080/"
        },
        "id": "07D2YIJHoBS-",
        "outputId": "ac020fb8-faa8-4c5d-f53c-aeb378e0b43a"
      },
      "execution_count": null,
      "outputs": [
        {
          "output_type": "stream",
          "name": "stdout",
          "text": [
            "Enter the stringsachin\n",
            "The reverse text : nihcas\n"
          ]
        }
      ]
    },
    {
      "cell_type": "code",
      "source": [
        "#Write a Python program to calculate the factorial of a number provided by the user using a while loop\n",
        "\n",
        "number=int(input(\"Enter the number whose going find the factorial of the number\"))\n",
        "fact=1\n",
        "while number >=1:\n",
        "  fact=fact*number\n",
        "  number=number-1\n",
        "\n",
        "print(fact)\n"
      ],
      "metadata": {
        "colab": {
          "base_uri": "https://localhost:8080/"
        },
        "id": "6OmVtlV8pMU5",
        "outputId": "02e5147f-244a-40f1-a575-2359255e6468"
      },
      "execution_count": null,
      "outputs": [
        {
          "output_type": "stream",
          "name": "stdout",
          "text": [
            "Enter the number whose going find the factorial of the number4\n",
            "24\n"
          ]
        }
      ]
    }
  ]
}